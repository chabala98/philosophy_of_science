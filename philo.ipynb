{
 "cells": [
  {
   "cell_type": "code",
   "execution_count": 69,
   "metadata": {},
   "outputs": [],
   "source": [
    "import random\n",
    "class Organism:\n",
    "    def __init__(self, gene_type, probability_to_engage_w_opposite_characteristic):\n",
    "        self.gene_type = gene_type\n",
    "        self.prob_eng_same = 1 - probability_to_engage_w_opposite_characteristic\n",
    "        self.prob_eng_opposite = probability_to_engage_w_opposite_characteristic\n",
    "    \n",
    "    def get_gene_type(self):\n",
    "        return self.gene_type\n",
    "\n",
    "    def get_prob_eng_opposite(self):\n",
    "        return self.prob_eng_opposite\n",
    "\n",
    "    def mating_decision(self, mate_gene_type):\n",
    "        \"\"\"function that determines whether organism wants to reproduce with a potential mate using probabiliti.\n",
    "            If if does, returns true otherwise it return false \"\"\"\n",
    "        value = random.uniform(0,1)\n",
    "\n",
    "        if mate_gene_type != self.gene_type:\n",
    "            if value <= self.prob_eng_opposite:\n",
    "                return True\n",
    "            else:\n",
    "                return False\n",
    "\n",
    "        else:\n",
    "            if value <= self.prob_eng_same:\n",
    "                return True\n",
    "            else:\n",
    "                return False\n",
    "            \n",
    "\n",
    "\n",
    "\n",
    "    "
   ]
  },
  {
   "cell_type": "code",
   "execution_count": 70,
   "metadata": {},
   "outputs": [],
   "source": [
    "import matplotlib.pyplot as plt\n",
    "class Population:\n",
    "    def __init__(self, pop_size, proportion_altruism,altruist_probability_to_engage_w_opposite_characteristic,\\\n",
    "                selfish_probability_to_engage_w_opposite_characteristic, reproductive_fitness_table, \\\n",
    "                growth_factor = 1, oscillation_factor = 0 ):\n",
    "        self.pop_size = pop_size\n",
    "        self.round_number = 0\n",
    "        self.growth_factor = growth_factor\n",
    "        self.oscillation_factor = oscillation_factor\n",
    "        self.statistics = list()\n",
    "        self.organisms_curr_gen = list()\n",
    "        self.organisms_new_gen = list()\n",
    "        self.organisms = list()\n",
    "        self.selfish_probability_to_engage_w_opposite_characteristic = selfish_probability_to_engage_w_opposite_characteristic\n",
    "        self.altruist_probability_to_engage_w_opposite_characteristic = altruist_probability_to_engage_w_opposite_characteristic\n",
    "        self.nb_altruists = 0\n",
    "        self.nb_selfish = 0       \n",
    "        self.reproductive_fitness_table = reproductive_fitness_table\n",
    "        \n",
    "        for i in range(self.pop_size):\n",
    "            tmp = random.uniform(0,1)\n",
    "            if tmp > proportion_altruism:\n",
    "                self.organisms_curr_gen.append(Organism(\"selfish\", selfish_probability_to_engage_w_opposite_characteristic))\n",
    "                self.nb_selfish += 1           \n",
    "            else:\n",
    "                self.organisms_curr_gen.append(Organism(\"altruist\", altruist_probability_to_engage_w_opposite_characteristic))\n",
    "                self.nb_altruists += 1  \n",
    "                 \n",
    "    def plot_results(self):\n",
    "        \"\"\"Generate a plot of the current simulation data stored in teh statistcs field\n",
    "        \"\"\"\n",
    "        x = []\n",
    "        y = []\n",
    "        for stat in self.statistics:\n",
    "            x.append(stat[0])\n",
    "            y.append(stat[1])\n",
    "        plt.plot(x, y)\n",
    "        plt.xlabel('Generation number')\n",
    "        plt.ylabel('Selfish proportion') \n",
    "        plt.title('Evolution of the population in ' + str(self.round_number) + ' generations') \n",
    "        plt.show()\n",
    "\n",
    "            \n",
    "    def calc_gen_stat(self):\n",
    "        \"\"\"Compute statistics of the current generation and update the class statistics field\n",
    "            that will be used for plotting\n",
    "        \"\"\"\n",
    "        selfish_cnt = 0\n",
    "        for organism in self.organisms_curr_gen:\n",
    "            if (organism.get_gene_type() == \"selfish\"):\n",
    "                selfish_cnt += 1\n",
    "        self.statistics.append((self.round_number,selfish_cnt/len(self.organisms_curr_gen)))\n",
    "\n",
    "    def get_gen_stat(self):\n",
    "        return self.statistics\n",
    "\n",
    "    def create_progeny(self, organism1, organism2):\n",
    "        \"\"\"Update the number of selfish/altruist organism in the population.\n",
    "        This step is the first one the steps that will perform the reproduction of the current generation.\n",
    "        This function is called for every couple formed in population and every organism will generate a number of \n",
    "        sons equal to his fitness. The type of the Sons will be equal to the parent generating them.\n",
    "        Afterwards, another function will resize the population in order to avoid divergence of it's size.\n",
    "\n",
    "        Args:\n",
    "            organism1 (Organism): the first partner of the formed couple\n",
    "            organism2 (Organism): the second partner of the formed couple\n",
    "        \"\"\"\n",
    "        organism1_gene_type = organism1.get_gene_type()\n",
    "        organism2_gene_type = organism2.get_gene_type()\n",
    "\n",
    "        nb_progeny_organism1, nb_progeny_organism2 = self.reproductive_fitness_table[organism1_gene_type + '_' + organism2_gene_type]\n",
    "        \n",
    "    \n",
    "        #add to count nb_altruists and nb_selfish of next generation \n",
    "        if organism1_gene_type == 'altruist':\n",
    "            self.nb_altruists += nb_progeny_organism1\n",
    "        else:\n",
    "            self.nb_selfish += nb_progeny_organism1\n",
    "            \n",
    "        if organism2_gene_type == 'altruist':\n",
    "            self.nb_altruists += nb_progeny_organism2\n",
    "        else:\n",
    "            self.nb_selfish += nb_progeny_organism2\n",
    "\n",
    "        \n",
    "    def both_candidates_agree_to_reproduce(self,organism1, organism2):\n",
    "        \"\"\"This function is used to form couples in the population.\n",
    "        If both organisms agree to reproduce with the other partner\n",
    "        the function will return true, otherwise will return false\n",
    "\n",
    "        Args:\n",
    "            organism1 (Organism): the first partner of the formed couple\n",
    "            organism2 (Organism): the second partner of the formed couple\n",
    "\n",
    "        Returns:\n",
    "            Boolean: Boolean that indicates if the couple is formed\n",
    "        \"\"\"\n",
    "        candidate1_decision = organism1.mating_decision(organism2.gene_type)\n",
    "        candidate2_decision = organism2.mating_decision(organism1.gene_type)\n",
    "        #both have to agree to reproduce\n",
    "        return candidate1_decision and candidate2_decision\n",
    "        \n",
    "    def run_round(self):\n",
    "        \"\"\"This function runs a single round of a simulation.\n",
    "            We pass from generation i to generation (i+1).\n",
    "        \"\"\"\n",
    "        self.nb_altruists = 0\n",
    "        self.nb_selfish = 0\n",
    "        while len(self.organisms_curr_gen) > 1:\n",
    "            index_organism_1 = random.randint(0,len(self.organisms_curr_gen)-1)\n",
    "            index_organism_2 = random.randint(0,len(self.organisms_curr_gen)-1)\n",
    "            organism1 = self.organisms_curr_gen[index_organism_1]\n",
    "            organism2 = self.organisms_curr_gen[index_organism_2]\n",
    "            if index_organism_1 != index_organism_2 and self.both_candidates_agree_to_reproduce(organism1, organism2):\n",
    "\n",
    "                self.create_progeny(organism1,organism2)\n",
    "\n",
    "                if index_organism_1 < index_organism_2:  \n",
    "                    self.organisms_curr_gen.pop(index_organism_2)\n",
    "                    self.organisms_curr_gen.pop(index_organism_1)\n",
    "                else:\n",
    "                    self.organisms_curr_gen.pop(index_organism_1)\n",
    "                    self.organisms_curr_gen.pop(index_organism_2)\n",
    "\n",
    "        self.subsample_new_gen(growth_factor = self.growth_factor ,oscillation_factor = self.oscillation_factor)\n",
    "        self.organisms_curr_gen = self.organisms_new_gen.copy()\n",
    "        self.organisms_new_gen = list()\n",
    "        self.pop_size = len(self.organisms_curr_gen)\n",
    "        \n",
    "    def subsample_new_gen(self,growth_factor = 1,oscillation_factor = 0):\n",
    "        \"\"\"Subsample the next generation created in order to mantain a given population size\n",
    "            The growth factor can be used to add a drive in population size ()\n",
    "            The oscillation factor can be used to generate some variation of pop size between generations. N ~ (0,oscillation_factor)\n",
    "        \"\"\"\n",
    "        variation = random.gauss(0, oscillation_factor)\n",
    "        self.organisms_new_gen = []\n",
    "        next_pop_size = self.pop_size*(growth_factor+variation)\n",
    "        proportion_selfish = self.nb_selfish/(self.nb_altruists+self.nb_selfish)\n",
    "        proportion_altruist = 1 - proportion_selfish\n",
    "        for i in range(int(round(next_pop_size*proportion_selfish,0))):\n",
    "            self.organisms_new_gen.append(Organism(\"selfish\", self.selfish_probability_to_engage_w_opposite_characteristic))\n",
    "        for i in range(int(round(next_pop_size*proportion_altruist,0))):\n",
    "            self.organisms_new_gen.append(Organism(\"altruist\", self.altruist_probability_to_engage_w_opposite_characteristic))\n",
    "            \n",
    "    def run_simulation(self,n_rounds,show_plot = True):\n",
    "        \"\"\"This function runs a simulation of n_rounds on the population.\n",
    "\n",
    "        Args:\n",
    "            n_rounds (Int): The number of rounds that the simulation will last.\n",
    "            show_plot (bool, optional): Option used to display the plot at the end of the simulation. Defaults to True.\n",
    "        \"\"\"\n",
    "        for i in range(n_rounds):\n",
    "            self.calc_gen_stat()\n",
    "            self.run_round()\n",
    "            self.round_number += 1\n",
    "        self.calc_gen_stat()\n",
    "        if show_plot:\n",
    "            self.plot_results()\n",
    "\n",
    "\n"
   ]
  },
  {
   "cell_type": "code",
   "execution_count": 71,
   "metadata": {},
   "outputs": [],
   "source": [
    "pop_size = 50\n",
    "proportion_altruism = 0.5\n",
    "altruist_probability_to_engage_w_opposite_characteristic = 0.1\n",
    "selfish_probability_to_engage_w_opposite_characteristic = 0.9\n",
    "reproductive_fitness_table = {'selfish_selfish': (5,5), 'altruist_altruist': (11,11), 'altruist_selfish': (0,20),'selfish_altruist': (20,0) } \n",
    "pop = Population(pop_size, proportion_altruism,altruist_probability_to_engage_w_opposite_characteristic, \\\n",
    "                    selfish_probability_to_engage_w_opposite_characteristic, reproductive_fitness_table )"
   ]
  },
  {
   "cell_type": "code",
   "execution_count": 30,
   "metadata": {},
   "outputs": [
    {
     "data": {
      "image/png": "[encoded data removed]",
      "text/plain": [
       "<Figure size 432x288 with 1 Axes>"
      ]
     },
     "metadata": {
      "needs_background": "light"
     },
     "output_type": "display_data"
    }
   ],
   "source": [
    "pop.run_simulation(60)"
   ]
  },
  {
   "cell_type": "code",
   "execution_count": 8,
   "metadata": {},
   "outputs": [
    {
     "data": {
      "image/png": "[encoded data removed]",
      "text/plain": [
       "<Figure size 432x288 with 1 Axes>"
      ]
     },
     "metadata": {
      "needs_background": "light"
     },
     "output_type": "display_data"
    }
   ],
   "source": [
    "pop.plot_results()"
   ]
  },
  {
   "cell_type": "code",
   "execution_count": 9,
   "metadata": {},
   "outputs": [
    {
     "data": {
      "text/plain": [
       "[(0, 0.54),\n",
       " (1, 0.64),\n",
       " (2, 0.72),\n",
       " (3, 0.76),\n",
       " (4, 0.8),\n",
       " (5, 0.86),\n",
       " (6, 0.92),\n",
       " (7, 1.0),\n",
       " (8, 1.0),\n",
       " (9, 1.0),\n",
       " (10, 1.0),\n",
       " (11, 1.0),\n",
       " (12, 1.0),\n",
       " (13, 1.0),\n",
       " (14, 1.0),\n",
       " (15, 1.0),\n",
       " (16, 1.0),\n",
       " (17, 1.0),\n",
       " (18, 1.0),\n",
       " (19, 1.0),\n",
       " (20, 1.0),\n",
       " (21, 1.0),\n",
       " (22, 1.0),\n",
       " (23, 1.0),\n",
       " (24, 1.0),\n",
       " (25, 1.0),\n",
       " (26, 1.0),\n",
       " (27, 1.0),\n",
       " (28, 1.0),\n",
       " (29, 1.0),\n",
       " (30, 1.0),\n",
       " (31, 1.0),\n",
       " (32, 1.0),\n",
       " (33, 1.0),\n",
       " (34, 1.0),\n",
       " (35, 1.0),\n",
       " (36, 1.0),\n",
       " (37, 1.0),\n",
       " (38, 1.0),\n",
       " (39, 1.0),\n",
       " (40, 1.0),\n",
       " (41, 1.0),\n",
       " (42, 1.0),\n",
       " (43, 1.0),\n",
       " (44, 1.0),\n",
       " (45, 1.0),\n",
       " (46, 1.0),\n",
       " (47, 1.0),\n",
       " (48, 1.0),\n",
       " (49, 1.0),\n",
       " (50, 1.0),\n",
       " (51, 1.0),\n",
       " (52, 1.0),\n",
       " (53, 1.0),\n",
       " (54, 1.0),\n",
       " (55, 1.0),\n",
       " (56, 1.0),\n",
       " (57, 1.0),\n",
       " (58, 1.0),\n",
       " (59, 1.0),\n",
       " (60, 1.0)]"
      ]
     },
     "execution_count": 9,
     "metadata": {},
     "output_type": "execute_result"
    }
   ],
   "source": [
    "pop.statistics"
   ]
  },
  {
   "cell_type": "code",
   "execution_count": 10,
   "metadata": {},
   "outputs": [
    {
     "data": {
      "text/plain": [
       "50"
      ]
     },
     "execution_count": 10,
     "metadata": {},
     "output_type": "execute_result"
    }
   ],
   "source": [
    "pop.pop_size"
   ]
  },
  {
   "cell_type": "code",
   "execution_count": 77,
   "metadata": {},
   "outputs": [],
   "source": [
    "def plot_simulation(n_rounds, step_size):\n",
    "    plt.\n",
    "    simulations_stats_x = []\n",
    "    simulations_stats_y = []\n",
    "    simulation_colors = []\n",
    "    pop_size = 1000\n",
    "    proportion_altruism = 0.5\n",
    "\n",
    "    reproductive_fitness_table = {'selfish_selfish': (5,5), 'altruist_altruist': (11,11), 'altruist_selfish': (0,20),'selfish_altruist': (20,0) } \n",
    "   \n",
    "    for altruist_iterator in range(int(1/step_size)):\n",
    "        print(altruist_iterator, end = ' ')\n",
    "        altruist_probability_to_engage_w_opposite_characteristic = altruist_iterator * step_size\n",
    "        tmp_stats = []\n",
    "        for selfish_iterator in range(int(1/step_size)):\n",
    "            if altruist_iterator != 0 and selfish_iterator != 0: \n",
    "    \n",
    "                selfish_probability_to_engage_w_opposite_characteristic = selfish_iterator * step_size\n",
    "                \n",
    "                pop = Population(pop_size, proportion_altruism,altruist_probability_to_engage_w_opposite_characteristic, \\\n",
    "                                    selfish_probability_to_engage_w_opposite_characteristic, reproductive_fitness_table )\n",
    "\n",
    "                pop.run_simulation(n_rounds,show_plot = False)\n",
    "\n",
    "                simulation_stat = pop.get_gen_stat()\n",
    "                \n",
    "                if simulation_stat[-1][1] >= 0.5:\n",
    "                    tmp_stats.append((selfish_probability_to_engage_w_opposite_characteristic,'selfish'))\n",
    "                else:\n",
    "                    tmp_stats.append((selfish_probability_to_engage_w_opposite_characteristic,'altruist'))\n",
    "                    \n",
    "        for selfish_prob,result in tmp_stats:\n",
    "            simulations_stats_x.append(altruist_probability_to_engage_w_opposite_characteristic)\n",
    "            simulations_stats_y.append(selfish_prob)\n",
    "            simulation_colors.append('red' if result == 'altruist' else 'blue')\n",
    "    fig, ax = plt.subplots()       \n",
    "    \n",
    "    my_labels = {'red': 'altruist', 'blue': 'selfish'}\n",
    "    print()\n",
    "    for i in range(len(simulations_stats_x)):\n",
    "        if my_labels[simulation_colors[i]] != \"_nolegend_\":\n",
    "            ax.scatter(simulations_stats_x[i],simulations_stats_y[i],c = simulation_colors[i], label =my_labels[simulation_colors[i]])\n",
    "            my_labels[simulation_colors[i]] = \"_nolegend_\"\n",
    "        else:\n",
    "            ax.scatter(simulations_stats_x[i],simulations_stats_y[i],c = simulation_colors[i])\n",
    "    ax.legend( bbox_to_anchor=(0, 0), loc='upper right')\n",
    "            \n",
    "\n",
    "            "
   ]
  },
  {
   "cell_type": "code",
   "execution_count": 78,
   "metadata": {},
   "outputs": [
    {
     "name": "stdout",
     "output_type": "stream",
     "text": [
      "0 1 2 3 4 \n"
     ]
    },
    {
     "data": {
      "image/png": "[encoded data removed]",
      "text/plain": [
       "<Figure size 432x288 with 1 Axes>"
      ]
     },
     "metadata": {
      "needs_background": "light"
     },
     "output_type": "display_data"
    }
   ],
   "source": [
    "\n",
    "plot_simulation(20,0.2)"
   ]
  },
  {
   "cell_type": "code",
   "execution_count": null,
   "metadata": {},
   "outputs": [],
   "source": []
  }
 ],
 "metadata": {
  "interpreter": {
   "hash": "d41aec2a4b997bebfb95ff85dc5a86a145656ff6aee7ba99a3c1272c0a99cd02"
  },
  "kernelspec": {
   "display_name": "Python 3.8.12 ('adaexam')",
   "language": "python",
   "name": "python3"
  },
  "language_info": {
   "codemirror_mode": {
    "name": "ipython",
    "version": 3
   },
   "file_extension": ".py",
   "mimetype": "text/x-python",
   "name": "python",
   "nbconvert_exporter": "python",
   "pygments_lexer": "ipython3",
   "version": "3.8.3"
  },
  "orig_nbformat": 4
 },
 "nbformat": 4,
 "nbformat_minor": 2
}
